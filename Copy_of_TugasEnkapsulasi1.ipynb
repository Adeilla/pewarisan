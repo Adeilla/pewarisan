{
  "nbformat": 4,
  "nbformat_minor": 0,
  "metadata": {
    "colab": {
      "provenance": [],
      "include_colab_link": true
    },
    "kernelspec": {
      "name": "python3",
      "display_name": "Python 3"
    },
    "language_info": {
      "name": "python"
    }
  },
  "cells": [
    {
      "cell_type": "markdown",
      "metadata": {
        "id": "view-in-github",
        "colab_type": "text"
      },
      "source": [
        "<a href=\"https://colab.research.google.com/github/Adeilla/pewarisan/blob/main/Copy_of_TugasEnkapsulasi1.ipynb\" target=\"_parent\"><img src=\"https://colab.research.google.com/assets/colab-badge.svg\" alt=\"Open In Colab\"/></a>"
      ]
    },
    {
      "cell_type": "code",
      "execution_count": 1,
      "metadata": {
        "id": "ihePdlIsSR5E"
      },
      "outputs": [],
      "source": [
        "class Karyawan:\n",
        "  def __init__(self, nama, gaji):\n",
        "    #Deklarasi dan inisialisai variabel privat untuk nama\n",
        "    self.__nama = nama\n",
        "    #Deklarasi dan inisialisai variabel privat untuk gaji\n",
        "    self.__gaji = gaji\n",
        "\n",
        "  # Fungsi untuk mengakses nama\n",
        "  def get_nama(self):\n",
        "    return self.__nama\n",
        "\n",
        "  # Fungsi untuk mengubah nama\n",
        "  def set_nama(self, nama):\n",
        "    self.__nama = nama\n",
        "\n",
        "  # Fungsi untuk mengakses gaji\n",
        "  def get_gaji(self):\n",
        "    return self.__gaji\n",
        "\n",
        "  # Fungsi untuk mengubah gaji\n",
        "  def set_gaji(self, gaji):\n",
        "    self.__gaji"
      ]
    },
    {
      "cell_type": "code",
      "source": [
        "# Membuat objek Karyawan dengan nama Ahmad dengan gaji 4000000\n",
        "karyawan1 = Karyawan('Ahmad', 4000000)\n",
        "\n",
        "# Mengakses/menampilkan nama dan gaji menggunakan fungsi\n",
        "print(karyawan1.get_nama(), 'ialah karyawan lama')\n",
        "print('mendapat gaji', karyawan1.get_gaji())\n",
        "\n",
        "# Mengubah nama menjadi nama anda masing-masing dan gaji bebas menggunakan fungsi\n",
        "karyawan1.set_nama('illa')\n",
        "print(karyawan1.get_nama(), 'ialah karyawan baru')\n",
        "\n",
        "# Mengakses/menampilkan nama dan gaji setelah diubah\n",
        "karyawan1.set_gaji(5000000)\n",
        "print('mendapat gaji', karyawan1.get_gaji())"
      ],
      "metadata": {
        "id": "aOwy6rfdSga2",
        "colab": {
          "base_uri": "https://localhost:8080/"
        },
        "outputId": "b6948477-dbc5-4de4-f993-951f55c4a825"
      },
      "execution_count": 2,
      "outputs": [
        {
          "output_type": "stream",
          "name": "stdout",
          "text": [
            "Ahmad ialah karyawan lama\n",
            "mendapat gaji 4000000\n",
            "illa ialah karyawan baru\n",
            "mendapat gaji 4000000\n"
          ]
        }
      ]
    }
  ]
}